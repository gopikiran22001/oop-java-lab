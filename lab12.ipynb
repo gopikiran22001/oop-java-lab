{
  "nbformat": 4,
  "nbformat_minor": 0,
  "metadata": {
    "colab": {
      "provenance": [],
      "authorship_tag": "ABX9TyNp68pbfX5iiQPZPD6fay39",
      "include_colab_link": true
    },
    "kernelspec": {
      "name": "python3",
      "display_name": "Python 3"
    },
    "language_info": {
      "name": "python"
    }
  },
  "cells": [
    {
      "cell_type": "markdown",
      "metadata": {
        "id": "view-in-github",
        "colab_type": "text"
      },
      "source": [
        "<a href=\"https://colab.research.google.com/github/gopikiran22001/ADS/blob/main/lab12.ipynb\" target=\"_parent\"><img src=\"https://colab.research.google.com/assets/colab-badge.svg\" alt=\"Open In Colab\"/></a>"
      ]
    },
    {
      "cell_type": "code",
      "execution_count": 11,
      "metadata": {
        "colab": {
          "base_uri": "https://localhost:8080/"
        },
        "id": "4kR2Y_ZwmPSl",
        "outputId": "fff1339b-ce32-4479-ae75-4961640bad4e"
      },
      "outputs": [
        {
          "output_type": "stream",
          "name": "stdout",
          "text": [
            "False\n",
            "True\n"
          ]
        }
      ],
      "source": [
        "import json\n",
        "def check(data):\n",
        "  if isinstance(data,(dict,list)):\n",
        "    for val in data:\n",
        "      if isinstance(data,dict):\n",
        "        val=data[val]\n",
        "      if isinstance(val,(dict,list)) or check(val):\n",
        "        return True\n",
        "  return False\n",
        "def comp_json(st):\n",
        "  try:\n",
        "    data=json.loads(st)\n",
        "    return check(data)\n",
        "  except Exception as e:\n",
        "    print(e)\n",
        "    return False\n",
        "d1='{\"1\":\"cat\",\"2\":\"dog\",\"3\":\"cow\"}'\n",
        "d2='{\"1\":[\"A\",\"B\",\"C\"],\"2\":[\"D\",\"E\",\"F\"],\"3\":[\"G\",\"H\",\"I\"]}'\n",
        "print(comp_json(d1))\n",
        "print(comp_json(d2))"
      ]
    },
    {
      "cell_type": "code",
      "source": [
        "import numpy as np\n",
        "a=np.array([1,2,3,4,5])\n",
        "print(a)\n",
        "b=np.array([[1,2,3],[4,5,6]])\n",
        "print(b)\n",
        "c=np.array([[[1,2,3],[4,5,6]],[[7,8,9],[10,11,12]]])\n",
        "print(c)"
      ],
      "metadata": {
        "colab": {
          "base_uri": "https://localhost:8080/"
        },
        "id": "nrT92QCnr0_t",
        "outputId": "bc98f61f-c010-4de9-85c1-1bdc0aeb4641"
      },
      "execution_count": 12,
      "outputs": [
        {
          "output_type": "stream",
          "name": "stdout",
          "text": [
            "[1 2 3 4 5]\n",
            "[[1 2 3]\n",
            " [4 5 6]]\n",
            "[[[ 1  2  3]\n",
            "  [ 4  5  6]]\n",
            "\n",
            " [[ 7  8  9]\n",
            "  [10 11 12]]]\n"
          ]
        }
      ]
    },
    {
      "cell_type": "code",
      "source": [
        "import numpy as np\n",
        "b=np.array([[1,2,3],[4,5,6]])\n",
        "print(b.ndim)\n",
        "print(b.shape)\n",
        "print(b.dtype)\n",
        "print(b.size)"
      ],
      "metadata": {
        "colab": {
          "base_uri": "https://localhost:8080/"
        },
        "id": "sPqcwAkLsH5L",
        "outputId": "86353c06-bdce-408f-e6b6-5f8bd843d51f"
      },
      "execution_count": 13,
      "outputs": [
        {
          "output_type": "stream",
          "name": "stdout",
          "text": [
            "2\n",
            "(2, 3)\n",
            "int64\n",
            "6\n"
          ]
        }
      ]
    },
    {
      "cell_type": "code",
      "source": [
        "import numpy as np\n",
        "b=np.array([[1,2,3],[4,5,6],[7,8,9]])\n",
        "print(b[:2,1:])\n",
        "print(b[(1,1)],b[(2,2)])\n",
        "print(b[b<=5])"
      ],
      "metadata": {
        "colab": {
          "base_uri": "https://localhost:8080/"
        },
        "id": "RKEuPnlEscO9",
        "outputId": "eaf0a6df-e6a7-42bb-b57f-3a674e0c48db"
      },
      "execution_count": 17,
      "outputs": [
        {
          "output_type": "stream",
          "name": "stdout",
          "text": [
            "[[2 3]\n",
            " [5 6]]\n",
            "5 9\n",
            "[1 2 3 4 5]\n"
          ]
        }
      ]
    },
    {
      "cell_type": "code",
      "source": [
        "import numpy as np\n",
        "b=np.array([[1,2,3],[4,5,6],[7,8,9]])\n",
        "print(b.sum(axis=0))\n",
        "print(b.sum(axis=1))\n",
        "print(b.min())\n",
        "print(b.max())\n",
        "print(b.cumsum())\n"
      ],
      "metadata": {
        "colab": {
          "base_uri": "https://localhost:8080/"
        },
        "id": "k0W_S1H-tBnu",
        "outputId": "fb449ae9-332c-45f9-b97f-0b253c94d291"
      },
      "execution_count": 18,
      "outputs": [
        {
          "output_type": "stream",
          "name": "stdout",
          "text": [
            "[12 15 18]\n",
            "[ 6 15 24]\n",
            "1\n",
            "9\n",
            "[ 1  3  6 10 15 21 28 36 45]\n"
          ]
        }
      ]
    },
    {
      "cell_type": "code",
      "source": [
        "import pandas as pd\n",
        "d={\"c++\":[69,58,78,98,52,56,78,45,25,11],\"kotlin\":[89,69,78,56,23,63,96,89,75,48],\"java\":[89,69,75,89,65,23,12,39,85,56],\"python\":[59,84,12,65,62,36,78,58,91,56],\"c#\":[85,96,36,14,25,65,45,78,85,85]}\n",
        "df=pd.DataFrame(d,index=range(1,11))\n",
        "print(df)\n",
        "print()\n",
        "print(df.head())\n",
        "print()\n",
        "print(df.tail())\n",
        "print()\n",
        "print(df[\"c#\"])\n",
        "print()\n",
        "print(df.loc[5])\n",
        "print()\n",
        "print(df.iloc[1])\n",
        "print()\n",
        "print(df[df>50])\n",
        "print()\n",
        "print(df[1:6])\n",
        "print()"
      ],
      "metadata": {
        "colab": {
          "base_uri": "https://localhost:8080/"
        },
        "id": "xXtHYNN4teoJ",
        "outputId": "356b950f-2285-4e44-87eb-cdd5f69ce1ae"
      },
      "execution_count": 31,
      "outputs": [
        {
          "output_type": "stream",
          "name": "stdout",
          "text": [
            "    c++  kotlin  java  python  c#\n",
            "1    69      89    89      59  85\n",
            "2    58      69    69      84  96\n",
            "3    78      78    75      12  36\n",
            "4    98      56    89      65  14\n",
            "5    52      23    65      62  25\n",
            "6    56      63    23      36  65\n",
            "7    78      96    12      78  45\n",
            "8    45      89    39      58  78\n",
            "9    25      75    85      91  85\n",
            "10   11      48    56      56  85\n",
            "\n",
            "   c++  kotlin  java  python  c#\n",
            "1   69      89    89      59  85\n",
            "2   58      69    69      84  96\n",
            "3   78      78    75      12  36\n",
            "4   98      56    89      65  14\n",
            "5   52      23    65      62  25\n",
            "\n",
            "    c++  kotlin  java  python  c#\n",
            "6    56      63    23      36  65\n",
            "7    78      96    12      78  45\n",
            "8    45      89    39      58  78\n",
            "9    25      75    85      91  85\n",
            "10   11      48    56      56  85\n",
            "\n",
            "1     85\n",
            "2     96\n",
            "3     36\n",
            "4     14\n",
            "5     25\n",
            "6     65\n",
            "7     45\n",
            "8     78\n",
            "9     85\n",
            "10    85\n",
            "Name: c#, dtype: int64\n",
            "\n",
            "c++       52\n",
            "kotlin    23\n",
            "java      65\n",
            "python    62\n",
            "c#        25\n",
            "Name: 5, dtype: int64\n",
            "\n",
            "c++       58\n",
            "kotlin    69\n",
            "java      69\n",
            "python    84\n",
            "c#        96\n",
            "Name: 2, dtype: int64\n",
            "\n",
            "     c++  kotlin  java  python    c#\n",
            "1   69.0    89.0  89.0    59.0  85.0\n",
            "2   58.0    69.0  69.0    84.0  96.0\n",
            "3   78.0    78.0  75.0     NaN   NaN\n",
            "4   98.0    56.0  89.0    65.0   NaN\n",
            "5   52.0     NaN  65.0    62.0   NaN\n",
            "6   56.0    63.0   NaN     NaN  65.0\n",
            "7   78.0    96.0   NaN    78.0   NaN\n",
            "8    NaN    89.0   NaN    58.0  78.0\n",
            "9    NaN    75.0  85.0    91.0  85.0\n",
            "10   NaN     NaN  56.0    56.0  85.0\n",
            "\n",
            "   c++  kotlin  java  python  c#\n",
            "2   58      69    69      84  96\n",
            "3   78      78    75      12  36\n",
            "4   98      56    89      65  14\n",
            "5   52      23    65      62  25\n",
            "6   56      63    23      36  65\n",
            "\n"
          ]
        }
      ]
    }
  ]
}